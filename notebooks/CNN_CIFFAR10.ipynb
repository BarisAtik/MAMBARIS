{
  "cells": [
    {
      "cell_type": "markdown",
      "metadata": {
        "id": "WpGM63CM__hi"
      },
      "source": [
        "# Imports"
      ]
    },
    {
      "cell_type": "code",
      "execution_count": 1,
      "metadata": {
        "id": "f9oOZOiM__hl"
      },
      "outputs": [],
      "source": [
        "from __future__ import print_function\n",
        "import torch\n",
        "import json\n",
        "\n",
        "from data_loader import load_cifar10, get_class_names\n",
        "from training_utils import train_model, continue_training"
      ]
    },
    {
      "cell_type": "markdown",
      "metadata": {
        "id": "MG9Eal48__hn"
      },
      "source": [
        "# CUDA"
      ]
    },
    {
      "cell_type": "code",
      "execution_count": 2,
      "metadata": {
        "colab": {
          "base_uri": "https://localhost:8080/"
        },
        "id": "br84H4_G__ho",
        "outputId": "246ae8f0-688c-4c44-dda3-bf6919c54232"
      },
      "outputs": [
        {
          "output_type": "stream",
          "name": "stdout",
          "text": [
            "Is CUDA available? True\n",
            "nvcc: NVIDIA (R) Cuda compiler driver\n",
            "Copyright (c) 2005-2024 NVIDIA Corporation\n",
            "Built on Thu_Jun__6_02:18:23_PDT_2024\n",
            "Cuda compilation tools, release 12.5, V12.5.82\n",
            "Build cuda_12.5.r12.5/compiler.34385749_0\n"
          ]
        }
      ],
      "source": [
        "print(f\"Is CUDA available? {torch.cuda.is_available()}\")\n",
        "!nvcc --version"
      ]
    },
    {
      "cell_type": "code",
      "execution_count": 3,
      "metadata": {
        "id": "teN_EGku__hp"
      },
      "outputs": [],
      "source": [
        "#!pip install torch torchvision torchaudio --index-url https://download.pytorch.org/whl/cu124"
      ]
    },
    {
      "cell_type": "markdown",
      "metadata": {
        "id": "ErXgiPqJ__hq"
      },
      "source": [
        "# Initialization"
      ]
    },
    {
      "cell_type": "code",
      "execution_count": 4,
      "metadata": {
        "id": "DmKEXa9v__hs"
      },
      "outputs": [],
      "source": [
        "# Set the device (GPU if available)\n",
        "device = torch.device(\"cuda\" if torch.cuda.is_available() else \"cpu\")"
      ]
    },
    {
      "cell_type": "code",
      "execution_count": 5,
      "metadata": {
        "colab": {
          "base_uri": "https://localhost:8080/"
        },
        "id": "w_Y8mImR__ht",
        "outputId": "e32d11e0-bc8b-402f-c90e-dfcf3cc79462"
      },
      "outputs": [
        {
          "output_type": "stream",
          "name": "stdout",
          "text": [
            "Downloading https://www.cs.toronto.edu/~kriz/cifar-10-python.tar.gz to ./data/cifar-10-python.tar.gz\n"
          ]
        },
        {
          "output_type": "stream",
          "name": "stderr",
          "text": [
            "100%|██████████| 170M/170M [00:01<00:00, 105MB/s]\n"
          ]
        },
        {
          "output_type": "stream",
          "name": "stdout",
          "text": [
            "Extracting ./data/cifar-10-python.tar.gz to ./data\n",
            "Files already downloaded and verified\n"
          ]
        }
      ],
      "source": [
        "train_loader, test_loader, X_train, X_test, Y_train, Y_test = load_cifar10(batch_size=64, seed=42)\n",
        "class_names = get_class_names()"
      ]
    },
    {
      "cell_type": "markdown",
      "metadata": {
        "id": "BUwmB_p7__hu"
      },
      "source": [
        "# Train CNN"
      ]
    },
    {
      "cell_type": "code",
      "execution_count": 6,
      "metadata": {
        "colab": {
          "base_uri": "https://localhost:8080/"
        },
        "id": "krGxuui-__hw",
        "outputId": "85a3c3ca-953d-4e3d-f1da-e4176da7ef06"
      },
      "outputs": [
        {
          "output_type": "stream",
          "name": "stdout",
          "text": [
            "Model device: cuda:0\n"
          ]
        }
      ],
      "source": [
        "from model import StandardCNN\n",
        "model = StandardCNN()\n",
        "model = model.to(device)\n",
        "\n",
        "print(f\"Model device: {next(model.parameters()).device}\")"
      ]
    },
    {
      "cell_type": "code",
      "execution_count": 8,
      "metadata": {
        "colab": {
          "base_uri": "https://localhost:8080/",
          "height": 1000
        },
        "id": "e0NP7Tmy__hx",
        "outputId": "3e177ba1-174f-43f0-9969-c2bd9cfb8be2"
      },
      "outputs": [
        {
          "output_type": "stream",
          "name": "stdout",
          "text": [
            "Epoch 1/500 | LR: 0.000100 | Train Acc: 35.8% | Test Acc: 39.5% | Gap: -3.8%\n",
            "Epoch 2/500 | LR: 0.000100 | Train Acc: 41.2% | Test Acc: 42.6% | Gap: -1.4%\n",
            "Epoch 3/500 | LR: 0.000100 | Train Acc: 44.0% | Test Acc: 44.7% | Gap: -0.7%\n",
            "Epoch 4/500 | LR: 0.000100 | Train Acc: 45.4% | Test Acc: 45.2% | Gap: 0.1%\n",
            "Epoch 5/500 | LR: 0.000100 | Train Acc: 46.6% | Test Acc: 45.8% | Gap: 0.8%\n",
            "Epoch 6/500 | LR: 0.000100 | Train Acc: 47.3% | Test Acc: 47.7% | Gap: -0.4%\n",
            "Epoch 7/500 | LR: 0.000100 | Train Acc: 48.2% | Test Acc: 48.1% | Gap: 0.1%\n",
            "Epoch 8/500 | LR: 0.000100 | Train Acc: 49.0% | Test Acc: 49.4% | Gap: -0.4%\n",
            "Epoch 9/500 | LR: 0.000100 | Train Acc: 49.5% | Test Acc: 49.5% | Gap: -0.0%\n",
            "Epoch 10/500 | LR: 0.000100 | Train Acc: 50.0% | Test Acc: 49.4% | Gap: 0.5%\n",
            "Epoch 11/500 | LR: 0.000100 | Train Acc: 50.7% | Test Acc: 50.8% | Gap: -0.1%\n",
            "Epoch 12/500 | LR: 0.000100 | Train Acc: 51.0% | Test Acc: 50.0% | Gap: 1.0%\n",
            "Epoch 13/500 | LR: 0.000100 | Train Acc: 51.4% | Test Acc: 51.5% | Gap: -0.1%\n",
            "Epoch 14/500 | LR: 0.000100 | Train Acc: 51.9% | Test Acc: 51.7% | Gap: 0.2%\n",
            "Epoch 15/500 | LR: 0.000100 | Train Acc: 52.4% | Test Acc: 52.8% | Gap: -0.4%\n",
            "Epoch 16/500 | LR: 0.000100 | Train Acc: 52.6% | Test Acc: 52.4% | Gap: 0.2%\n",
            "Epoch 17/500 | LR: 0.000100 | Train Acc: 53.0% | Test Acc: 52.3% | Gap: 0.7%\n",
            "Epoch 18/500 | LR: 0.000100 | Train Acc: 53.3% | Test Acc: 53.0% | Gap: 0.3%\n",
            "Epoch 19/500 | LR: 0.000100 | Train Acc: 53.7% | Test Acc: 54.0% | Gap: -0.3%\n",
            "Epoch 20/500 | LR: 0.000100 | Train Acc: 53.8% | Test Acc: 54.2% | Gap: -0.4%\n",
            "Epoch 21/500 | LR: 0.000100 | Train Acc: 54.2% | Test Acc: 54.0% | Gap: 0.2%\n",
            "Epoch 22/500 | LR: 0.000100 | Train Acc: 54.3% | Test Acc: 54.1% | Gap: 0.2%\n",
            "Epoch 23/500 | LR: 0.000100 | Train Acc: 54.7% | Test Acc: 53.9% | Gap: 0.9%\n",
            "Epoch 24/500 | LR: 0.000100 | Train Acc: 55.0% | Test Acc: 55.2% | Gap: -0.1%\n",
            "Epoch 25/500 | LR: 0.000100 | Train Acc: 55.4% | Test Acc: 55.0% | Gap: 0.4%\n",
            "Epoch 26/500 | LR: 0.000100 | Train Acc: 55.5% | Test Acc: 55.6% | Gap: -0.1%\n",
            "Epoch 27/500 | LR: 0.000100 | Train Acc: 55.7% | Test Acc: 56.1% | Gap: -0.4%\n",
            "Epoch 28/500 | LR: 0.000100 | Train Acc: 56.0% | Test Acc: 55.8% | Gap: 0.2%\n",
            "Epoch 29/500 | LR: 0.000100 | Train Acc: 56.1% | Test Acc: 56.3% | Gap: -0.2%\n",
            "Epoch 30/500 | LR: 0.000100 | Train Acc: 56.4% | Test Acc: 56.3% | Gap: 0.1%\n",
            "Epoch 31/500 | LR: 0.000100 | Train Acc: 56.5% | Test Acc: 56.7% | Gap: -0.2%\n",
            "Epoch 32/500 | LR: 0.000100 | Train Acc: 56.5% | Test Acc: 56.3% | Gap: 0.2%\n",
            "Epoch 33/500 | LR: 0.000100 | Train Acc: 57.0% | Test Acc: 56.8% | Gap: 0.1%\n",
            "Epoch 34/500 | LR: 0.000100 | Train Acc: 57.0% | Test Acc: 56.8% | Gap: 0.2%\n",
            "Epoch 35/500 | LR: 0.000100 | Train Acc: 57.5% | Test Acc: 57.6% | Gap: -0.1%\n",
            "Epoch 36/500 | LR: 0.000100 | Train Acc: 57.3% | Test Acc: 58.3% | Gap: -0.9%\n",
            "Epoch 37/500 | LR: 0.000100 | Train Acc: 57.7% | Test Acc: 57.0% | Gap: 0.7%\n",
            "Epoch 38/500 | LR: 0.000100 | Train Acc: 57.9% | Test Acc: 57.8% | Gap: 0.1%\n",
            "Epoch 39/500 | LR: 0.000100 | Train Acc: 57.8% | Test Acc: 57.5% | Gap: 0.2%\n",
            "Epoch 40/500 | LR: 0.000100 | Train Acc: 57.9% | Test Acc: 56.6% | Gap: 1.2%\n",
            "Epoch 41/500 | LR: 0.000100 | Train Acc: 58.1% | Test Acc: 57.1% | Gap: 1.1%\n",
            "Epoch 42/500 | LR: 0.000100 | Train Acc: 58.3% | Test Acc: 58.1% | Gap: 0.2%\n",
            "Epoch 43/500 | LR: 0.000100 | Train Acc: 58.4% | Test Acc: 58.5% | Gap: -0.1%\n",
            "Epoch 44/500 | LR: 0.000100 | Train Acc: 58.8% | Test Acc: 58.5% | Gap: 0.4%\n",
            "Epoch 45/500 | LR: 0.000100 | Train Acc: 58.8% | Test Acc: 58.7% | Gap: 0.1%\n",
            "Epoch 46/500 | LR: 0.000100 | Train Acc: 58.9% | Test Acc: 58.3% | Gap: 0.5%\n",
            "Epoch 47/500 | LR: 0.000100 | Train Acc: 59.1% | Test Acc: 58.8% | Gap: 0.3%\n",
            "Epoch 48/500 | LR: 0.000100 | Train Acc: 59.0% | Test Acc: 58.5% | Gap: 0.5%\n",
            "Epoch 49/500 | LR: 0.000100 | Train Acc: 59.1% | Test Acc: 58.8% | Gap: 0.3%\n",
            "Epoch 50/500 | LR: 0.000100 | Train Acc: 59.7% | Test Acc: 58.0% | Gap: 1.7%\n",
            "Epoch 51/500 | LR: 0.000100 | Train Acc: 59.4% | Test Acc: 59.3% | Gap: 0.1%\n",
            "Epoch 52/500 | LR: 0.000100 | Train Acc: 59.4% | Test Acc: 59.8% | Gap: -0.4%\n",
            "Epoch 53/500 | LR: 0.000100 | Train Acc: 59.8% | Test Acc: 59.6% | Gap: 0.2%\n",
            "Epoch 54/500 | LR: 0.000100 | Train Acc: 59.8% | Test Acc: 60.4% | Gap: -0.6%\n",
            "Epoch 55/500 | LR: 0.000100 | Train Acc: 60.0% | Test Acc: 58.8% | Gap: 1.2%\n",
            "Epoch 56/500 | LR: 0.000100 | Train Acc: 60.1% | Test Acc: 60.3% | Gap: -0.2%\n",
            "Epoch 57/500 | LR: 0.000100 | Train Acc: 60.3% | Test Acc: 60.4% | Gap: -0.1%\n",
            "Epoch 58/500 | LR: 0.000100 | Train Acc: 60.4% | Test Acc: 60.0% | Gap: 0.4%\n",
            "Epoch 59/500 | LR: 0.000100 | Train Acc: 60.5% | Test Acc: 60.3% | Gap: 0.2%\n",
            "Epoch 60/500 | LR: 0.000100 | Train Acc: 60.6% | Test Acc: 59.9% | Gap: 0.7%\n",
            "Epoch 61/500 | LR: 0.000100 | Train Acc: 60.6% | Test Acc: 60.2% | Gap: 0.4%\n"
          ]
        },
        {
          "output_type": "error",
          "ename": "KeyboardInterrupt",
          "evalue": "",
          "traceback": [
            "\u001b[0;31m---------------------------------------------------------------------------\u001b[0m",
            "\u001b[0;31mKeyboardInterrupt\u001b[0m                         Traceback (most recent call last)",
            "\u001b[0;32m<ipython-input-8-7edaddf82834>\u001b[0m in \u001b[0;36m<cell line: 0>\u001b[0;34m()\u001b[0m\n\u001b[0;32m----> 1\u001b[0;31m metrics = train_model(\n\u001b[0m\u001b[1;32m      2\u001b[0m     \u001b[0mmodel\u001b[0m\u001b[0;34m=\u001b[0m\u001b[0mmodel\u001b[0m\u001b[0;34m,\u001b[0m\u001b[0;34m\u001b[0m\u001b[0;34m\u001b[0m\u001b[0m\n\u001b[1;32m      3\u001b[0m     \u001b[0mtrain_loader\u001b[0m\u001b[0;34m=\u001b[0m\u001b[0mtrain_loader\u001b[0m\u001b[0;34m,\u001b[0m\u001b[0;34m\u001b[0m\u001b[0;34m\u001b[0m\u001b[0m\n\u001b[1;32m      4\u001b[0m     \u001b[0mtest_loader\u001b[0m\u001b[0;34m=\u001b[0m\u001b[0mtest_loader\u001b[0m\u001b[0;34m,\u001b[0m\u001b[0;34m\u001b[0m\u001b[0;34m\u001b[0m\u001b[0m\n\u001b[1;32m      5\u001b[0m     \u001b[0mmodel_name\u001b[0m\u001b[0;34m=\u001b[0m\u001b[0;34m'cnn'\u001b[0m\u001b[0;34m,\u001b[0m\u001b[0;34m\u001b[0m\u001b[0;34m\u001b[0m\u001b[0m\n",
            "\u001b[0;32m/content/training_utils.py\u001b[0m in \u001b[0;36mtrain_model\u001b[0;34m(model, train_loader, test_loader, model_name, num_epochs, device, checkpoint_dir)\u001b[0m\n\u001b[1;32m    100\u001b[0m             \u001b[0mbest_accuracy\u001b[0m \u001b[0;34m=\u001b[0m \u001b[0mtest_accuracy\u001b[0m\u001b[0;34m\u001b[0m\u001b[0;34m\u001b[0m\u001b[0m\n\u001b[1;32m    101\u001b[0m             \u001b[0mbest_model_path\u001b[0m \u001b[0;34m=\u001b[0m \u001b[0mos\u001b[0m\u001b[0;34m.\u001b[0m\u001b[0mpath\u001b[0m\u001b[0;34m.\u001b[0m\u001b[0mjoin\u001b[0m\u001b[0;34m(\u001b[0m\u001b[0mcheckpoint_dir\u001b[0m\u001b[0;34m,\u001b[0m \u001b[0;34mf'{model_name}_best_model.pt'\u001b[0m\u001b[0;34m)\u001b[0m\u001b[0;34m\u001b[0m\u001b[0;34m\u001b[0m\u001b[0m\n\u001b[0;32m--> 102\u001b[0;31m             \u001b[0msave_checkpoint\u001b[0m\u001b[0;34m(\u001b[0m\u001b[0mmodel\u001b[0m\u001b[0;34m,\u001b[0m \u001b[0moptimizer\u001b[0m\u001b[0;34m,\u001b[0m \u001b[0mscheduler\u001b[0m\u001b[0;34m,\u001b[0m \u001b[0mepoch\u001b[0m\u001b[0;34m,\u001b[0m \u001b[0mmetrics\u001b[0m\u001b[0;34m,\u001b[0m \u001b[0mbest_model_path\u001b[0m\u001b[0;34m)\u001b[0m\u001b[0;34m\u001b[0m\u001b[0;34m\u001b[0m\u001b[0m\n\u001b[0m\u001b[1;32m    103\u001b[0m \u001b[0;34m\u001b[0m\u001b[0m\n\u001b[1;32m    104\u001b[0m         \u001b[0mmetrics\u001b[0m\u001b[0;34m[\u001b[0m\u001b[0;34m'train_losses'\u001b[0m\u001b[0;34m]\u001b[0m\u001b[0;34m.\u001b[0m\u001b[0mappend\u001b[0m\u001b[0;34m(\u001b[0m\u001b[0mtrain_loss\u001b[0m\u001b[0;34m)\u001b[0m\u001b[0;34m\u001b[0m\u001b[0;34m\u001b[0m\u001b[0m\n",
            "\u001b[0;32m/content/check_and_measure.py\u001b[0m in \u001b[0;36msave_checkpoint\u001b[0;34m(model, optimizer, scheduler, epoch, metrics, filepath)\u001b[0m\n\u001b[1;32m     12\u001b[0m         \u001b[0;34m'metrics'\u001b[0m\u001b[0;34m:\u001b[0m \u001b[0mmetrics\u001b[0m\u001b[0;34m\u001b[0m\u001b[0;34m\u001b[0m\u001b[0m\n\u001b[1;32m     13\u001b[0m     }\n\u001b[0;32m---> 14\u001b[0;31m     \u001b[0mtorch\u001b[0m\u001b[0;34m.\u001b[0m\u001b[0msave\u001b[0m\u001b[0;34m(\u001b[0m\u001b[0mcheckpoint\u001b[0m\u001b[0;34m,\u001b[0m \u001b[0mfilepath\u001b[0m\u001b[0;34m)\u001b[0m\u001b[0;34m\u001b[0m\u001b[0;34m\u001b[0m\u001b[0m\n\u001b[0m\u001b[1;32m     15\u001b[0m \u001b[0;34m\u001b[0m\u001b[0m\n\u001b[1;32m     16\u001b[0m \u001b[0;32mdef\u001b[0m \u001b[0mload_last_checkpoint\u001b[0m\u001b[0;34m(\u001b[0m\u001b[0mcheckpoint_dir\u001b[0m\u001b[0;34m,\u001b[0m \u001b[0mmodel_type\u001b[0m\u001b[0;34m=\u001b[0m\u001b[0;34m'mamba'\u001b[0m\u001b[0;34m)\u001b[0m\u001b[0;34m:\u001b[0m\u001b[0;34m\u001b[0m\u001b[0;34m\u001b[0m\u001b[0m\n",
            "\u001b[0;32m/usr/local/lib/python3.11/dist-packages/torch/serialization.py\u001b[0m in \u001b[0;36msave\u001b[0;34m(obj, f, pickle_module, pickle_protocol, _use_new_zipfile_serialization, _disable_byteorder_record)\u001b[0m\n\u001b[1;32m    848\u001b[0m     \u001b[0;32mif\u001b[0m \u001b[0m_use_new_zipfile_serialization\u001b[0m\u001b[0;34m:\u001b[0m\u001b[0;34m\u001b[0m\u001b[0;34m\u001b[0m\u001b[0m\n\u001b[1;32m    849\u001b[0m         \u001b[0;32mwith\u001b[0m \u001b[0m_open_zipfile_writer\u001b[0m\u001b[0;34m(\u001b[0m\u001b[0mf\u001b[0m\u001b[0;34m)\u001b[0m \u001b[0;32mas\u001b[0m \u001b[0mopened_zipfile\u001b[0m\u001b[0;34m:\u001b[0m\u001b[0;34m\u001b[0m\u001b[0;34m\u001b[0m\u001b[0m\n\u001b[0;32m--> 850\u001b[0;31m             _save(\n\u001b[0m\u001b[1;32m    851\u001b[0m                 \u001b[0mobj\u001b[0m\u001b[0;34m,\u001b[0m\u001b[0;34m\u001b[0m\u001b[0;34m\u001b[0m\u001b[0m\n\u001b[1;32m    852\u001b[0m                 \u001b[0mopened_zipfile\u001b[0m\u001b[0;34m,\u001b[0m\u001b[0;34m\u001b[0m\u001b[0;34m\u001b[0m\u001b[0m\n",
            "\u001b[0;32m/usr/local/lib/python3.11/dist-packages/torch/serialization.py\u001b[0m in \u001b[0;36m_save\u001b[0;34m(obj, zip_file, pickle_module, pickle_protocol, _disable_byteorder_record)\u001b[0m\n\u001b[1;32m   1086\u001b[0m     \u001b[0mpickler\u001b[0m \u001b[0;34m=\u001b[0m \u001b[0mpickle_module\u001b[0m\u001b[0;34m.\u001b[0m\u001b[0mPickler\u001b[0m\u001b[0;34m(\u001b[0m\u001b[0mdata_buf\u001b[0m\u001b[0;34m,\u001b[0m \u001b[0mprotocol\u001b[0m\u001b[0;34m=\u001b[0m\u001b[0mpickle_protocol\u001b[0m\u001b[0;34m)\u001b[0m\u001b[0;34m\u001b[0m\u001b[0;34m\u001b[0m\u001b[0m\n\u001b[1;32m   1087\u001b[0m     \u001b[0mpickler\u001b[0m\u001b[0;34m.\u001b[0m\u001b[0mpersistent_id\u001b[0m \u001b[0;34m=\u001b[0m \u001b[0mpersistent_id\u001b[0m\u001b[0;34m\u001b[0m\u001b[0;34m\u001b[0m\u001b[0m\n\u001b[0;32m-> 1088\u001b[0;31m     \u001b[0mpickler\u001b[0m\u001b[0;34m.\u001b[0m\u001b[0mdump\u001b[0m\u001b[0;34m(\u001b[0m\u001b[0mobj\u001b[0m\u001b[0;34m)\u001b[0m\u001b[0;34m\u001b[0m\u001b[0;34m\u001b[0m\u001b[0m\n\u001b[0m\u001b[1;32m   1089\u001b[0m     \u001b[0mdata_value\u001b[0m \u001b[0;34m=\u001b[0m \u001b[0mdata_buf\u001b[0m\u001b[0;34m.\u001b[0m\u001b[0mgetvalue\u001b[0m\u001b[0;34m(\u001b[0m\u001b[0;34m)\u001b[0m\u001b[0;34m\u001b[0m\u001b[0;34m\u001b[0m\u001b[0m\n\u001b[1;32m   1090\u001b[0m     \u001b[0mzip_file\u001b[0m\u001b[0;34m.\u001b[0m\u001b[0mwrite_record\u001b[0m\u001b[0;34m(\u001b[0m\u001b[0;34m\"data.pkl\"\u001b[0m\u001b[0;34m,\u001b[0m \u001b[0mdata_value\u001b[0m\u001b[0;34m,\u001b[0m \u001b[0mlen\u001b[0m\u001b[0;34m(\u001b[0m\u001b[0mdata_value\u001b[0m\u001b[0;34m)\u001b[0m\u001b[0;34m)\u001b[0m\u001b[0;34m\u001b[0m\u001b[0;34m\u001b[0m\u001b[0m\n",
            "\u001b[0;32m/usr/local/lib/python3.11/dist-packages/torch/serialization.py\u001b[0m in \u001b[0;36mpersistent_id\u001b[0;34m(obj)\u001b[0m\n\u001b[1;32m   1036\u001b[0m     \u001b[0mstorage_dtypes\u001b[0m\u001b[0;34m:\u001b[0m \u001b[0mDict\u001b[0m\u001b[0;34m[\u001b[0m\u001b[0mint\u001b[0m\u001b[0;34m,\u001b[0m \u001b[0mtorch\u001b[0m\u001b[0;34m.\u001b[0m\u001b[0mdtype\u001b[0m\u001b[0;34m]\u001b[0m \u001b[0;34m=\u001b[0m \u001b[0;34m{\u001b[0m\u001b[0;34m}\u001b[0m\u001b[0;34m\u001b[0m\u001b[0;34m\u001b[0m\u001b[0m\n\u001b[1;32m   1037\u001b[0m \u001b[0;34m\u001b[0m\u001b[0m\n\u001b[0;32m-> 1038\u001b[0;31m     \u001b[0;32mdef\u001b[0m \u001b[0mpersistent_id\u001b[0m\u001b[0;34m(\u001b[0m\u001b[0mobj\u001b[0m\u001b[0;34m)\u001b[0m\u001b[0;34m:\u001b[0m\u001b[0;34m\u001b[0m\u001b[0;34m\u001b[0m\u001b[0m\n\u001b[0m\u001b[1;32m   1039\u001b[0m         \u001b[0;31m# FIXME: the docs say that persistent_id should only return a string\u001b[0m\u001b[0;34m\u001b[0m\u001b[0;34m\u001b[0m\u001b[0m\n\u001b[1;32m   1040\u001b[0m         \u001b[0;31m# but torch store returns tuples. This works only in the binary protocol\u001b[0m\u001b[0;34m\u001b[0m\u001b[0;34m\u001b[0m\u001b[0m\n",
            "\u001b[0;31mKeyboardInterrupt\u001b[0m: "
          ]
        }
      ],
      "source": [
        "metrics = train_model(\n",
        "    model=model,\n",
        "    train_loader=train_loader,\n",
        "    test_loader=test_loader,\n",
        "    model_name='cnn',\n",
        "    num_epochs=500,\n",
        "    device=device\n",
        ")"
      ]
    },
    {
      "cell_type": "markdown",
      "metadata": {
        "id": "Vxn7iJUc__hy"
      },
      "source": [
        "# Continue training"
      ]
    },
    {
      "cell_type": "code",
      "execution_count": null,
      "metadata": {
        "id": "X8Ss1o8x__hy"
      },
      "outputs": [],
      "source": [
        "checkpoint_dir = 'cnn_checkpoints'\n",
        "with open(f'{checkpoint_dir}/training_metrics.json', 'r') as f:\n",
        "    metrics = json.load(f)\n",
        "print(f\"Last completed epoch: {metrics['current_epoch']}\")\n",
        "\n",
        "# Continue training\n",
        "metrics = continue_training(\n",
        "    model=model,\n",
        "    train_loader=train_loader,\n",
        "    test_loader=test_loader,\n",
        "    model_name='cnn',\n",
        "    checkpoint_dir='cnn_checkpoints',\n",
        "    target_epochs=2000,\n",
        "    device=device\n",
        ")"
      ]
    }
  ],
  "metadata": {
    "kernelspec": {
      "display_name": "Python 3",
      "name": "python3"
    },
    "language_info": {
      "codemirror_mode": {
        "name": "ipython",
        "version": 3
      },
      "file_extension": ".py",
      "mimetype": "text/x-python",
      "name": "python",
      "nbconvert_exporter": "python",
      "pygments_lexer": "ipython3",
      "version": "3.9.6"
    },
    "colab": {
      "provenance": [],
      "machine_shape": "hm",
      "gpuType": "A100"
    },
    "accelerator": "GPU"
  },
  "nbformat": 4,
  "nbformat_minor": 0
}