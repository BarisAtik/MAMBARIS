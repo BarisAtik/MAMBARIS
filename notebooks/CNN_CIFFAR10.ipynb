{
  "cells": [
    {
      "cell_type": "markdown",
      "metadata": {
        "id": "WpGM63CM__hi"
      },
      "source": [
        "# Imports"
      ]
    },
    {
      "cell_type": "code",
      "execution_count": null,
      "metadata": {
        "colab": {
          "base_uri": "https://localhost:8080/"
        },
        "id": "xK6jWBSKNrqL",
        "outputId": "8fc95e3d-941a-4591-c430-252d934cc2db"
      },
      "outputs": [],
      "source": [
        "from google.colab import drive\n",
        "drive.mount('/content/drive')"
      ]
    },
    {
      "cell_type": "code",
      "execution_count": null,
      "metadata": {
        "id": "f9oOZOiM__hl"
      },
      "outputs": [],
      "source": [
        "from __future__ import print_function\n",
        "import torch\n",
        "import json\n",
        "\n",
        "from data_loader import load_cifar10, get_class_names\n",
        "from training_utils import train_model, continue_training"
      ]
    },
    {
      "cell_type": "markdown",
      "metadata": {
        "id": "MG9Eal48__hn"
      },
      "source": [
        "# CUDA"
      ]
    },
    {
      "cell_type": "code",
      "execution_count": null,
      "metadata": {
        "colab": {
          "base_uri": "https://localhost:8080/"
        },
        "id": "br84H4_G__ho",
        "outputId": "c7b4524d-d948-43ed-b310-e972d2a5ac91"
      },
      "outputs": [],
      "source": [
        "print(f\"Is CUDA available? {torch.cuda.is_available()}\")\n",
        "!nvcc --version"
      ]
    },
    {
      "cell_type": "code",
      "execution_count": null,
      "metadata": {
        "id": "teN_EGku__hp"
      },
      "outputs": [],
      "source": [
        "#!pip install torch torchvision torchaudio --index-url https://download.pytorch.org/whl/cu124"
      ]
    },
    {
      "cell_type": "markdown",
      "metadata": {
        "id": "ErXgiPqJ__hq"
      },
      "source": [
        "# Initialization"
      ]
    },
    {
      "cell_type": "code",
      "execution_count": null,
      "metadata": {
        "id": "DmKEXa9v__hs"
      },
      "outputs": [],
      "source": [
        "# Set the device (GPU if available)\n",
        "device = torch.device(\"cuda\" if torch.cuda.is_available() else \"cpu\")"
      ]
    },
    {
      "cell_type": "code",
      "execution_count": null,
      "metadata": {
        "colab": {
          "base_uri": "https://localhost:8080/"
        },
        "id": "w_Y8mImR__ht",
        "outputId": "c4f5212d-d8d4-454d-dc13-a0bc69ce14fa"
      },
      "outputs": [],
      "source": [
        "train_loader, test_loader, X_train, X_test, Y_train, Y_test = load_cifar10(batch_size=64, seed=42)\n",
        "class_names = get_class_names()"
      ]
    },
    {
      "cell_type": "markdown",
      "metadata": {
        "id": "BUwmB_p7__hu"
      },
      "source": [
        "# Train CNN"
      ]
    },
    {
      "cell_type": "code",
      "execution_count": null,
      "metadata": {
        "colab": {
          "base_uri": "https://localhost:8080/"
        },
        "id": "krGxuui-__hw",
        "outputId": "356dc127-0b0b-4b55-8fd5-0be6c532b420"
      },
      "outputs": [],
      "source": [
        "from model import BeterCNN\n",
        "model = BeterCNN()\n",
        "model = model.to(device)\n",
        "\n",
        "print(f\"Model device: {next(model.parameters()).device}\")"
      ]
    },
    {
      "cell_type": "code",
      "execution_count": null,
      "metadata": {
        "colab": {
          "base_uri": "https://localhost:8080/",
          "height": 1000
        },
        "id": "e0NP7Tmy__hx",
        "outputId": "cfa375bf-38c9-4129-8f4a-9047f33e45f7"
      },
      "outputs": [],
      "source": [
        "metrics = train_model(\n",
        "    model=model,\n",
        "    train_loader=train_loader,\n",
        "    test_loader=test_loader,\n",
        "    model_name='cnn',\n",
        "    num_epochs=300,\n",
        "    device=device\n",
        ")"
      ]
    },
    {
      "cell_type": "markdown",
      "metadata": {
        "id": "Vxn7iJUc__hy"
      },
      "source": [
        "# Continue training"
      ]
    },
    {
      "cell_type": "code",
      "execution_count": null,
      "metadata": {
        "colab": {
          "base_uri": "https://localhost:8080/"
        },
        "id": "X8Ss1o8x__hy",
        "outputId": "8b3d2136-af11-4df2-a07f-84ccf1576877"
      },
      "outputs": [],
      "source": [
        "import json\n",
        "checkpoint_dir = '/content/cnn_checkpoints'  # Replace with your actual path\n",
        "with open(f'{checkpoint_dir}/training_metrics.json', 'r') as f:\n",
        "       metrics = json.load(f)\n",
        "\n",
        "print(f\"Last completed epoch: {metrics['current_epoch']}\")\n",
        "\n",
        "# Continue training\n",
        "metrics = continue_training(\n",
        "    model=model,\n",
        "    train_loader=train_loader,\n",
        "    test_loader=test_loader,\n",
        "    model_name='cnn',\n",
        "    checkpoint_dir=checkpoint_dir,\n",
        "    target_epochs=700,\n",
        "    device=device\n",
        ")"
      ]
    },
    {
      "cell_type": "code",
      "execution_count": null,
      "metadata": {
        "colab": {
          "base_uri": "https://localhost:8080/"
        },
        "id": "mSdgz-oCNsaM",
        "outputId": "30db49db-6800-4add-c2d2-432eed09bc79"
      },
      "outputs": [],
      "source": [
        "import shutil\n",
        "import os\n",
        "\n",
        "source_dir = '/content/cnn_checkpoints'\n",
        "destination_dir = '/content/drive/MyDrive/better_cnn_checkpoints'\n",
        "\n",
        "for filename in os.listdir(source_dir):\n",
        "    source_path = os.path.join(source_dir, filename)\n",
        "    destination_path = os.path.join(destination_dir, filename)\n",
        "    shutil.copy(source_path, destination_path)\n",
        "    print(f\"Copied: {filename}\")\n",
        "\n",
        "print(\"All files copied!\")"
      ]
    },
    {
      "cell_type": "code",
      "execution_count": null,
      "metadata": {
        "id": "nm8ZYAIiP5en"
      },
      "outputs": [],
      "source": []
    }
  ],
  "metadata": {
    "accelerator": "GPU",
    "colab": {
      "gpuType": "A100",
      "machine_shape": "hm",
      "provenance": []
    },
    "kernelspec": {
      "display_name": "Python 3",
      "name": "python3"
    },
    "language_info": {
      "codemirror_mode": {
        "name": "ipython",
        "version": 3
      },
      "file_extension": ".py",
      "mimetype": "text/x-python",
      "name": "python",
      "nbconvert_exporter": "python",
      "pygments_lexer": "ipython3",
      "version": "3.9.6"
    }
  },
  "nbformat": 4,
  "nbformat_minor": 0
}
