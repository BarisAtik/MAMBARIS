{
  "cells": [
    {
      "cell_type": "markdown",
      "metadata": {
        "id": "WpGM63CM__hi"
      },
      "source": [
        "# Imports"
      ]
    },
    {
      "cell_type": "code",
      "execution_count": 1,
      "metadata": {
        "id": "f9oOZOiM__hl"
      },
      "outputs": [],
      "source": [
        "from __future__ import print_function\n",
        "import torch\n",
        "import json\n",
        "\n",
        "from data_loader import load_cifar10, get_class_names\n",
        "from training_utils import train_model, continue_training"
      ]
    },
    {
      "cell_type": "markdown",
      "metadata": {
        "id": "MG9Eal48__hn"
      },
      "source": [
        "# CUDA"
      ]
    },
    {
      "cell_type": "code",
      "execution_count": 2,
      "metadata": {
        "colab": {
          "base_uri": "https://localhost:8080/"
        },
        "id": "br84H4_G__ho",
        "outputId": "85c4e8ec-2d94-438a-81fc-385fc26f3ce8"
      },
      "outputs": [
        {
          "output_type": "stream",
          "name": "stdout",
          "text": [
            "Is CUDA available? True\n",
            "nvcc: NVIDIA (R) Cuda compiler driver\n",
            "Copyright (c) 2005-2024 NVIDIA Corporation\n",
            "Built on Thu_Jun__6_02:18:23_PDT_2024\n",
            "Cuda compilation tools, release 12.5, V12.5.82\n",
            "Build cuda_12.5.r12.5/compiler.34385749_0\n"
          ]
        }
      ],
      "source": [
        "print(f\"Is CUDA available? {torch.cuda.is_available()}\")\n",
        "!nvcc --version"
      ]
    },
    {
      "cell_type": "code",
      "execution_count": 3,
      "metadata": {
        "id": "teN_EGku__hp"
      },
      "outputs": [],
      "source": [
        "#!pip install torch torchvision torchaudio --index-url https://download.pytorch.org/whl/cu124"
      ]
    },
    {
      "cell_type": "markdown",
      "metadata": {
        "id": "ErXgiPqJ__hq"
      },
      "source": [
        "# Initialization"
      ]
    },
    {
      "cell_type": "code",
      "execution_count": 4,
      "metadata": {
        "id": "DmKEXa9v__hs"
      },
      "outputs": [],
      "source": [
        "# Set the device (GPU if available)\n",
        "device = torch.device(\"cuda\" if torch.cuda.is_available() else \"cpu\")"
      ]
    },
    {
      "cell_type": "code",
      "execution_count": 5,
      "metadata": {
        "colab": {
          "base_uri": "https://localhost:8080/"
        },
        "id": "w_Y8mImR__ht",
        "outputId": "3c8576d6-a5f4-4dd3-9c06-e5f23a205fad"
      },
      "outputs": [
        {
          "output_type": "stream",
          "name": "stdout",
          "text": [
            "Files already downloaded and verified\n",
            "Files already downloaded and verified\n"
          ]
        }
      ],
      "source": [
        "train_loader, test_loader, X_train, X_test, Y_train, Y_test = load_cifar10(batch_size=64, seed=42)\n",
        "class_names = get_class_names()"
      ]
    },
    {
      "cell_type": "markdown",
      "metadata": {
        "id": "BUwmB_p7__hu"
      },
      "source": [
        "# Train CNN"
      ]
    },
    {
      "cell_type": "code",
      "execution_count": 6,
      "metadata": {
        "colab": {
          "base_uri": "https://localhost:8080/"
        },
        "id": "krGxuui-__hw",
        "outputId": "47782762-e610-4c54-a933-5dc1bcc5453f"
      },
      "outputs": [
        {
          "output_type": "stream",
          "name": "stdout",
          "text": [
            "Model device: cuda:0\n"
          ]
        }
      ],
      "source": [
        "from model import BasicCNN\n",
        "model = BasicCNN()\n",
        "model = model.to(device)\n",
        "\n",
        "print(f\"Model device: {next(model.parameters()).device}\")"
      ]
    },
    {
      "cell_type": "code",
      "source": [
        "from google.colab import drive\n",
        "drive.mount('/content/drive')"
      ],
      "metadata": {
        "colab": {
          "base_uri": "https://localhost:8080/"
        },
        "id": "xK6jWBSKNrqL",
        "outputId": "b2d45762-a4f0-44b0-d067-336ca4f14c6b"
      },
      "execution_count": 7,
      "outputs": [
        {
          "output_type": "stream",
          "name": "stdout",
          "text": [
            "Drive already mounted at /content/drive; to attempt to forcibly remount, call drive.mount(\"/content/drive\", force_remount=True).\n"
          ]
        }
      ]
    },
    {
      "cell_type": "code",
      "execution_count": 8,
      "metadata": {
        "id": "e0NP7Tmy__hx"
      },
      "outputs": [],
      "source": [
        "#metrics = train_model(\n",
        "#    model=model,\n",
        "#    train_loader=train_loader,\n",
        "#    test_loader=test_loader,\n",
        "#    model_name='cnn',\n",
        "#    num_epochs=500,\n",
        "#    device=device\n",
        "#)"
      ]
    },
    {
      "cell_type": "markdown",
      "metadata": {
        "id": "Vxn7iJUc__hy"
      },
      "source": [
        "# Continue training"
      ]
    },
    {
      "cell_type": "code",
      "execution_count": null,
      "metadata": {
        "id": "X8Ss1o8x__hy",
        "colab": {
          "base_uri": "https://localhost:8080/"
        },
        "outputId": "abff71f8-2ab6-46b2-9320-3ba33ea1daa9"
      },
      "outputs": [
        {
          "output_type": "stream",
          "name": "stdout",
          "text": [
            "Last completed epoch: 200\n"
          ]
        }
      ],
      "source": [
        "import json\n",
        "checkpoint_dir = '/content/drive/MyDrive/cnn_checkpoints'  # Replace with your actual path\n",
        "with open(f'{checkpoint_dir}/cnn_training_metrics.json', 'r') as f:\n",
        "       metrics = json.load(f)\n",
        "\n",
        "print(f\"Last completed epoch: {metrics['current_epoch']}\")\n",
        "\n",
        "# Continue training\n",
        "metrics = continue_training(\n",
        "    model=model,\n",
        "    train_loader=train_loader,\n",
        "    test_loader=test_loader,\n",
        "    model_name='cnn',\n",
        "    checkpoint_dir=checkpoint_dir,\n",
        "    target_epochs=600,\n",
        "    device=device\n",
        ")"
      ]
    },
    {
      "cell_type": "code",
      "source": [],
      "metadata": {
        "id": "mSdgz-oCNsaM"
      },
      "execution_count": null,
      "outputs": []
    }
  ],
  "metadata": {
    "kernelspec": {
      "display_name": "Python 3",
      "name": "python3"
    },
    "language_info": {
      "codemirror_mode": {
        "name": "ipython",
        "version": 3
      },
      "file_extension": ".py",
      "mimetype": "text/x-python",
      "name": "python",
      "nbconvert_exporter": "python",
      "pygments_lexer": "ipython3",
      "version": "3.9.6"
    },
    "colab": {
      "provenance": [],
      "machine_shape": "hm",
      "gpuType": "A100"
    },
    "accelerator": "GPU"
  },
  "nbformat": 4,
  "nbformat_minor": 0
}