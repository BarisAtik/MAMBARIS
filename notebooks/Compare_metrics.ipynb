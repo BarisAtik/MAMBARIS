{
 "cells": [
  {
   "cell_type": "markdown",
   "metadata": {},
   "source": [
    "# Imports"
   ]
  },
  {
   "cell_type": "code",
   "execution_count": 1,
   "metadata": {},
   "outputs": [],
   "source": [
    "import matplotlib.pyplot as plt\n",
    "import json\n",
    "import seaborn as sns\n",
    "from matplotlib.gridspec import GridSpec\n",
    "import numpy as np"
   ]
  },
  {
   "cell_type": "code",
   "execution_count": 2,
   "metadata": {},
   "outputs": [],
   "source": [
    "def load_model_metrics(mamba_dir='mamba_checkpoints', cnn_dir='cnn_checkpoints'):\n",
    "    \"\"\"Load metrics from both model JSON files using correct paths.\"\"\"\n",
    "    try:\n",
    "        with open(f'{mamba_dir}/training_metrics.json', 'r') as f:\n",
    "            mamba_metrics = json.load(f)\n",
    "        with open(f'{cnn_dir}/training_metrics.json', 'r') as f:\n",
    "            cnn_metrics = json.load(f)\n",
    "    except FileNotFoundError as e:\n",
    "        print(f\"Error loading metrics: {e}\")\n",
    "        print(\"Please ensure the metrics files exist in the correct directories:\")\n",
    "        print(f\"- {mamba_dir}/training_metrics.json\")\n",
    "        print(f\"- {cnn_dir}/training_metrics.json\")\n",
    "        raise\n",
    "        \n",
    "    return mamba_metrics, cnn_metrics"
   ]
  },
  {
   "cell_type": "markdown",
   "metadata": {},
   "source": [
    "# Comparing the models\n",
    "Comparing the metrics that were tracked during training in the traininc_metrics.json"
   ]
  },
  {
   "cell_type": "code",
   "execution_count": 3,
   "metadata": {},
   "outputs": [],
   "source": [
    "def plot_metrics_comparison(mamba_dir='mamba_checkpoints', \n",
    "                          cnn_dir='cnn_checkpoints',\n",
    "                          save_path=None):\n",
    "    \"\"\"Plot comparison of model metrics from training.\"\"\"\n",
    "    \n",
    "    # Load metrics\n",
    "    mamba_metrics, cnn_metrics = load_model_metrics(mamba_dir, cnn_dir)\n",
    "    \n",
    "    # Create figure with subplots\n",
    "    fig, ((ax1, ax2), (ax3, ax4)) = plt.subplots(2, 2, figsize=(15, 12))\n",
    "    \n",
    "    # Get epochs - should be [100, 200, ..., N] where N is the last completed epoch\n",
    "    epochs = mamba_metrics['epochs']\n",
    "    final_epoch = max(epochs)\n",
    "    print(f\"Plotting metrics for epochs {epochs[0]} to {final_epoch}\")\n",
    "    \n",
    "    # 1. Accuracy Comparison\n",
    "    ax1.plot(epochs, mamba_metrics['train_accuracies'], 'b-', label='MAMBA Train')\n",
    "    ax1.plot(epochs, mamba_metrics['test_accuracies'], 'b--', label='MAMBA Test')\n",
    "    ax1.plot(epochs, cnn_metrics['train_accuracies'], 'r-', label='CNN Train')\n",
    "    ax1.plot(epochs, cnn_metrics['test_accuracies'], 'r--', label='CNN Test')\n",
    "    ax1.set_title('Accuracy Comparison')\n",
    "    ax1.set_xlabel('Epochs')\n",
    "    ax1.set_ylabel('Accuracy (%)')\n",
    "    ax1.legend()\n",
    "    ax1.grid(True)\n",
    "    \n",
    "    # 2. Loss Comparison\n",
    "    ax2.plot(epochs, mamba_metrics['train_losses'], 'b-', label='MAMBA Train')\n",
    "    ax2.plot(epochs, mamba_metrics['test_losses'], 'b--', label='MAMBA Test')\n",
    "    ax2.plot(epochs, cnn_metrics['train_losses'], 'r-', label='CNN Train')\n",
    "    ax2.plot(epochs, cnn_metrics['test_losses'], 'r--', label='CNN Test')\n",
    "    ax2.set_title('Loss Comparison')\n",
    "    ax2.set_xlabel('Epochs')\n",
    "    ax2.set_ylabel('Loss')\n",
    "    ax2.legend()\n",
    "    ax2.grid(True)\n",
    "    \n",
    "    # 3. Average Confidence\n",
    "    ax3.plot(epochs, mamba_metrics['train_confidences'], 'b-', label='MAMBA Train')\n",
    "    ax3.plot(epochs, mamba_metrics['test_confidences'], 'b--', label='MAMBA Test')\n",
    "    ax3.plot(epochs, cnn_metrics['train_confidences'], 'r-', label='CNN Train')\n",
    "    ax3.plot(epochs, cnn_metrics['test_confidences'], 'r--', label='CNN Test')\n",
    "    ax3.set_title('Average Confidence')\n",
    "    ax3.set_xlabel('Epochs')\n",
    "    ax3.set_ylabel('Confidence')\n",
    "    ax3.legend()\n",
    "    ax3.grid(True)\n",
    "    \n",
    "    # 4. Overfitting Analysis (Train-Test Accuracy Gap)\n",
    "    mamba_gap = [train - test for train, test in \n",
    "                 zip(mamba_metrics['train_accuracies'], mamba_metrics['test_accuracies'])]\n",
    "    cnn_gap = [train - test for train, test in \n",
    "               zip(cnn_metrics['train_accuracies'], cnn_metrics['test_accuracies'])]\n",
    "    \n",
    "    ax4.plot(epochs, mamba_gap, 'b-', label='MAMBA')\n",
    "    ax4.plot(epochs, cnn_gap, 'r-', label='CNN')\n",
    "    ax4.set_title('Overfitting Analysis (Train-Test Accuracy Gap)')\n",
    "    ax4.set_xlabel('Epochs')\n",
    "    ax4.set_ylabel('Accuracy Gap (%)')\n",
    "    ax4.legend()\n",
    "    ax4.grid(True)\n",
    "    \n",
    "    plt.tight_layout()\n",
    "    \n",
    "    if save_path:\n",
    "        plt.savefig(save_path)\n",
    "    \n",
    "    # Print summary statistics for final checkpoint\n",
    "    print(f\"\\nFinal Checkpoint (Epoch {final_epoch}) Statistics:\")\n",
    "    print(\"=\"*50)\n",
    "    print(\"\\nAccuracies:\")\n",
    "    print(f\"MAMBA - Train: {mamba_metrics['train_accuracies'][-1]:.2f}%, Test: {mamba_metrics['test_accuracies'][-1]:.2f}%\")\n",
    "    print(f\"CNN    - Train: {cnn_metrics['train_accuracies'][-1]:.2f}%, Test: {cnn_metrics['test_accuracies'][-1]:.2f}%\")\n",
    "    \n",
    "    print(\"\\nOverfitting Gap (Train-Test):\")\n",
    "    print(f\"MAMBA: {mamba_gap[-1]:.2f}%\")\n",
    "    print(f\"CNN: {cnn_gap[-1]:.2f}%\")\n",
    "    \n",
    "    print(\"\\nConfidence (Train/Test):\")\n",
    "    print(f\"MAMBA - Train: {mamba_metrics['train_confidences'][-1]:.4f}, Test: {mamba_metrics['test_confidences'][-1]:.4f}\")\n",
    "    print(f\"CNN    - Train: {cnn_metrics['train_confidences'][-1]:.4f}, Test: {cnn_metrics['test_confidences'][-1]:.4f}\")\n",
    "    \n",
    "    return fig, (mamba_metrics, cnn_metrics)"
   ]
  },
  {
   "cell_type": "code",
   "execution_count": null,
   "metadata": {},
   "outputs": [],
   "source": [
    "# Create the plots using the correct paths\n",
    "fig, (mamba_metrics, cnn_metrics) = plot_metrics_comparison(\n",
    "    mamba_dir='mamba_checkpoints',\n",
    "    cnn_dir='cnn_checkpoints',\n",
    "    save_path='model_comparison.png'  # Optional\n",
    ")\n",
    "\n",
    "plt.show()"
   ]
  },
  {
   "cell_type": "code",
   "execution_count": null,
   "metadata": {},
   "outputs": [],
   "source": []
  }
 ],
 "metadata": {
  "kernelspec": {
   "display_name": "Python 3",
   "language": "python",
   "name": "python3"
  },
  "language_info": {
   "codemirror_mode": {
    "name": "ipython",
    "version": 3
   },
   "file_extension": ".py",
   "mimetype": "text/x-python",
   "name": "python",
   "nbconvert_exporter": "python",
   "pygments_lexer": "ipython3",
   "version": "3.9.6"
  }
 },
 "nbformat": 4,
 "nbformat_minor": 2
}
