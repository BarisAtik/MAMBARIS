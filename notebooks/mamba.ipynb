{
 "cells": [
  {
   "cell_type": "markdown",
   "metadata": {},
   "source": [
    "# Nursery dataset\n",
    "Was originally created to rank and evaluate nursery school applications. \n",
    "So an application with for example, a family that is financially stable, has good housing, and has no social or health problems would be classified as priority.\n",
    "And applications that may involve severe financial, social, or health issues that make it highly unlikely for the application to be accepted, would be classified as\n",
    "\n",
    "Dit weet ik niet zeker??..\n",
    "\n",
    "So the ranking from best to worst is:\n",
    "\n",
    "Very Recommended > Recommended > Priority > Special Priority > Not Recommended."
   ]
  },
  {
   "cell_type": "code",
   "execution_count": 1,
   "metadata": {},
   "outputs": [],
   "source": [
    "#!pip install -r ../requirements.txt"
   ]
  },
  {
   "cell_type": "code",
   "execution_count": 2,
   "metadata": {},
   "outputs": [
    {
     "name": "stdout",
     "output_type": "stream",
     "text": [
      "{'uci_id': 76, 'name': 'Nursery', 'repository_url': 'https://archive.ics.uci.edu/dataset/76/nursery', 'data_url': 'https://archive.ics.uci.edu/static/public/76/data.csv', 'abstract': ' Nursery Database was derived from a hierarchical decision model originally developed to rank applications for nursery schools.', 'area': 'Social Science', 'tasks': ['Classification'], 'characteristics': ['Multivariate'], 'num_instances': 12960, 'num_features': 8, 'feature_types': ['Categorical'], 'demographics': [], 'target_col': ['class'], 'index_col': None, 'has_missing_values': 'no', 'missing_values_symbol': None, 'year_of_dataset_creation': 1989, 'last_updated': 'Sun Jan 14 2024', 'dataset_doi': '10.24432/C5P88W', 'creators': ['Vladislav Rajkovic'], 'intro_paper': {'ID': 372, 'type': 'NATIVE', 'title': 'An application for admission in public school systems', 'authors': 'M. Olave, V. Rajkovic, M. Bohanec', 'venue': 'Expert Systems in Public Administration', 'year': 1989, 'journal': None, 'DOI': None, 'URL': 'https://www.academia.edu/16670755/An_application_for_admission_in_public_school_systems', 'sha': None, 'corpus': None, 'arxiv': None, 'mag': None, 'acl': None, 'pmid': None, 'pmcid': None}, 'additional_info': {'summary': \"Nursery Database was derived from a hierarchical decision model originally developed to rank applications for nursery schools. It was used during several years in 1980's when there was excessive enrollment to these schools in Ljubljana, Slovenia, and the rejected applications frequently needed an objective explanation. The final decision depended on three subproblems: occupation of parents and child's nursery, family structure and financial standing, and social and health picture of the family. The model was developed within expert system shell for decision making DEX (M. Bohanec, V. Rajkovic: Expert system for decision making. Sistemica 1(1), pp. 145-157, 1990.).\\r\\n\\r\\nThe hierarchical model ranks nursery-school applications according to the following concept structure:\\r\\n\\r\\n NURSERY            Evaluation of applications for nursery schools\\r\\n . EMPLOY           Employment of parents and child's nursery\\r\\n . . parents        Parents' occupation\\r\\n . . has_nurs       Child's nursery\\r\\n . STRUCT_FINAN     Family structure and financial standings\\r\\n . . STRUCTURE      Family structure\\r\\n . . . form         Form of the family\\r\\n . . . children     Number of children\\r\\n . . housing        Housing conditions\\r\\n . . finance        Financial standing of the family\\r\\n . SOC_HEALTH       Social and health picture of the family\\r\\n . . social         Social conditions\\r\\n . . health         Health conditions\\r\\n\\r\\nInput attributes are printed in lowercase. Besides the target concept (NURSERY) the model includes four intermediate concepts: EMPLOY, STRUCT_FINAN, STRUCTURE, SOC_HEALTH. Every concept is in the original model related to its lower level descendants by a set of examples (for these examples sets see http://www-ai.ijs.si/BlazZupan/nursery.html).\\r\\n\\r\\nThe Nursery Database contains examples with the structural information removed, i.e., directly relates NURSERY to the eight input attributes: parents, has_nurs, form, children, housing, finance, social, health.\\r\\n\\r\\nBecause of known underlying concept structure, this database may be particularly useful for testing constructive induction and structure discovery methods.\", 'purpose': None, 'funded_by': None, 'instances_represent': None, 'recommended_data_splits': None, 'sensitive_data': None, 'preprocessing_description': None, 'variable_info': '   parents:        usual, pretentious, great_pret\\r\\n   has_nurs:       proper, less_proper, improper, critical, very_crit\\r\\n   form:           complete, completed, incomplete, foster\\r\\n   children:       1, 2, 3, more\\r\\n   housing:        convenient, less_conv, critical\\r\\n   finance:        convenient, inconv\\r\\n   social:         non-prob, slightly_prob, problematic\\r\\n   health:         recommended, priority, not_recom', 'citation': None}}\n",
      "       name     role         type demographic  \\\n",
      "0   parents  Feature  Categorical        None   \n",
      "1  has_nurs  Feature  Categorical        None   \n",
      "2      form  Feature  Categorical        None   \n",
      "3  children  Feature  Categorical        None   \n",
      "4   housing  Feature  Categorical        None   \n",
      "5   finance  Feature  Categorical        None   \n",
      "6    social  Feature  Categorical        None   \n",
      "7    health  Feature  Categorical        None   \n",
      "8     class   Target  Categorical        None   \n",
      "\n",
      "                                         description units missing_values  \n",
      "0                     usual, pretentious, great_pret  None             no  \n",
      "1  proper, less_proper, improper, critical, very_...  None             no  \n",
      "2            complete, completed, incomplete, foster  None             no  \n",
      "3                                      1, 2, 3, more  None             no  \n",
      "4                    convenient, less_conv, critical  None             no  \n",
      "5                                 convenient, inconv  None             no  \n",
      "6               non-prob, slightly_prob, problematic  None             no  \n",
      "7                   recommended, priority, not_recom  None             no  \n",
      "8                   recommended, priority, not_recom  None             no  \n",
      "\n",
      "The first 5 rows of the dataset:\n",
      "  parents has_nurs      form children     housing     finance         social  \\\n",
      "0   usual   proper  complete        1  convenient  convenient        nonprob   \n",
      "1   usual   proper  complete        1  convenient  convenient        nonprob   \n",
      "2   usual   proper  complete        1  convenient  convenient        nonprob   \n",
      "3   usual   proper  complete        1  convenient  convenient  slightly_prob   \n",
      "4   usual   proper  complete        1  convenient  convenient  slightly_prob   \n",
      "\n",
      "        health  \n",
      "0  recommended  \n",
      "1     priority  \n",
      "2    not_recom  \n",
      "3  recommended  \n",
      "4     priority  \n",
      "\n",
      "Possible target classes:\n",
      "['recommend' 'priority' 'not_recom' 'very_recom' 'spec_prior']\n"
     ]
    }
   ],
   "source": [
    "# ucimlrepo is a tool that provides easy access to datasets hosted on the UCI Machine Learning Repository\n",
    "from ucimlrepo import fetch_ucirepo\n",
    "\n",
    "# Fetch dataset from UCI repository, which has ud 76\n",
    "nursery = fetch_ucirepo(id=76)\n",
    "\n",
    "# Display metadata and variable information\n",
    "print(nursery.metadata) # metadata \n",
    "print(nursery.variables) # variable information \n",
    "print(\"\\n\"+ \"The first 5 rows of the dataset:\")\n",
    "print(nursery.data.features.head())  # Display first 5 rows of features\n",
    "# Show the target variable, possibilities\n",
    "\n",
    "# Show the target variable and its unique possibilities\n",
    "unique_targets = nursery.data.targets['class'].unique()  # Access the 'class' column and get unique values\n",
    "print(\"\\nPossible target classes:\")\n",
    "print(unique_targets)  # Display unique target classes"
   ]
  },
  {
   "cell_type": "markdown",
   "metadata": {},
   "source": [
    "# Imports"
   ]
  },
  {
   "cell_type": "code",
   "execution_count": 3,
   "metadata": {},
   "outputs": [],
   "source": [
    "# Import necessary libraries\n",
    "import pandas as pd\n",
    "from sklearn.model_selection import train_test_split\n",
    "from sklearn.preprocessing import LabelEncoder\n",
    "import torch\n",
    "import torch.nn as nn\n",
    "from torch.utils.data import DataLoader, TensorDataset\n",
    "from sklearn.metrics import accuracy_score\n",
    "# from model import Mamba, ModelArgs  # Import your custom Mamba implementation"
   ]
  },
  {
   "cell_type": "markdown",
   "metadata": {},
   "source": [
    "# Preprocessing\n",
    "The datta will be preprocessed, and converted into tensors"
   ]
  },
  {
   "cell_type": "code",
   "execution_count": 4,
   "metadata": {},
   "outputs": [
    {
     "name": "stdout",
     "output_type": "stream",
     "text": [
      "\n",
      "Original  values (before encoding):\n",
      "  parents has_nurs      form children     housing     finance         social  \\\n",
      "1   usual   proper  complete        1  convenient  convenient        nonprob   \n",
      "2   usual   proper  complete        1  convenient  convenient        nonprob   \n",
      "3   usual   proper  complete        1  convenient  convenient  slightly_prob   \n",
      "\n",
      "        health  \n",
      "1     priority  \n",
      "2    not_recom  \n",
      "3  recommended  \n",
      "       class\n",
      "1   priority\n",
      "2  not_recom\n",
      "3  recommend\n",
      "\n",
      "Encoded target values (after encoding):\n",
      "   parents  has_nurs  form  children  housing  finance  social  health\n",
      "1        2         3     0         0        0        0       0       1\n",
      "2        2         3     0         0        0        0       0       0\n",
      "3        2         3     0         0        0        0       2       2\n",
      "[1 0 2]\n",
      "\n",
      "Sample of training data tensor:\n",
      "tensor([[2, 0, 2, 1, 1, 0, 2, 1],\n",
      "        [0, 4, 3, 3, 0, 0, 0, 0]])\n",
      "\n",
      "Sample of training target tensor:\n",
      "tensor([3, 0])\n",
      "\n",
      "Sample of testing data tensor:\n",
      "tensor([[1, 1, 1, 2, 2, 1, 1, 0],\n",
      "        [1, 1, 1, 0, 1, 0, 0, 1]])\n",
      "\n",
      "Sample of testing target tensor:\n",
      "tensor([0, 3])\n"
     ]
    },
    {
     "name": "stderr",
     "output_type": "stream",
     "text": [
      "/Users/cagriatik/MAMBARIS/.venv/lib/python3.9/site-packages/sklearn/preprocessing/_label.py:114: DataConversionWarning: A column-vector y was passed when a 1d array was expected. Please change the shape of y to (n_samples, ), for example using ravel().\n",
      "  y = column_or_1d(y, warn=True)\n"
     ]
    }
   ],
   "source": [
    "X = nursery.data.features  # These are all the feature columns in the dataset\n",
    "Y = nursery.data.targets  # This is the target column in the dataset\n",
    "print(\"\\nOriginal  values (before encoding):\")\n",
    "print(X[1:4])  # Display a sample of the feature values\n",
    "print(Y[1:4])  # Display a sample of the target values\n",
    "\n",
    "# In case of future errors: Y = Y.values.ravel()  # Flatten Y to make it a 1D array if needed\n",
    "label_encoder = LabelEncoder()  # Used to encode the categorical target variables into numerical values\n",
    "X = X.apply(label_encoder.fit_transform)  # Encode the feature variables (X)\n",
    "Y = label_encoder.fit_transform(Y)  # Encode the target variable (Y)\n",
    "\n",
    "print(\"\\nEncoded target values (after encoding):\")\n",
    "print(X[1:4])  # Display the encoded feature values\n",
    "print(Y[1:4])  # Display the encoded target values\n",
    "\n",
    "# Split into training and testing sets\n",
    "X_train, X_test, Y_train, Y_test = train_test_split(X, Y, test_size=0.2, random_state=42)\n",
    "\n",
    "# Convert the train/test data into PyTorch tensors\n",
    "# We must do this because PyTorch models only accept tensors as input\n",
    "# Both the MambaClassifier and Mamba classes inherit from torch.nn.Module\n",
    "# which is the base class for all neural network modules in PyTorch.\n",
    "X_train_tensor = torch.tensor(X_train.values, dtype=torch.long)\n",
    "X_test_tensor = torch.tensor(X_test.values, dtype=torch.long)\n",
    "Y_train_tensor = torch.tensor(Y_train, dtype=torch.long)\n",
    "Y_test_tensor = torch.tensor(Y_test, dtype=torch.long)\n",
    "\n",
    "# Lets see how these tensors look like\n",
    "print(\"\\nSample of training data tensor:\")\n",
    "print(X_train_tensor[0:2])  # Display a sample of the training data tensor\n",
    "print(\"\\nSample of training target tensor:\")\n",
    "print(Y_train_tensor[0:2])  # Display a sample of the training target tensor\n",
    "print(\"\\nSample of testing data tensor:\")\n",
    "print(X_test_tensor[0:2])  # Display a sample of the testing data tensor\n",
    "print(\"\\nSample of testing target tensor:\")\n",
    "print(Y_test_tensor[0:2])  # Display a sample of the testing target tensor\n",
    "\n",
    "# Create PyTorch datasets and data loaders\n",
    "train_dataset = TensorDataset(X_train_tensor, Y_train_tensor)\n",
    "test_dataset = TensorDataset(X_test_tensor, Y_test_tensor)\n",
    "\n",
    "# DataLoader to help in batch processing during model training/testing\n",
    "train_loader = DataLoader(train_dataset, batch_size=64, shuffle=True)\n",
    "test_loader = DataLoader(test_dataset, batch_size=64)"
   ]
  },
  {
   "cell_type": "markdown",
   "metadata": {},
   "source": [
    "# Defining the model"
   ]
  },
  {
   "cell_type": "code",
   "execution_count": 6,
   "metadata": {},
   "outputs": [],
   "source": [
    "from model import Mamba, ModelArgs\n",
    "# I also want another mamba model which was not pretrained\n",
    "d_model = 64\n",
    "n_layer = 4\n",
    "vocabsize = len(X.nunique())\n",
    "# or might it be vocabsize = X.apply(lambda col: col.nunique()).max()\n",
    "model_args = ModelArgs(d_model=d_model, n_layer=n_layer, vocab_size=vocabsize)\n",
    "num_classes = len(nursery.data.targets['class'].unique())\n",
    "model = Mamba(model_args, num_classes=num_classes)\n"
   ]
  },
  {
   "cell_type": "markdown",
   "metadata": {},
   "source": [
    "# Training MAMBA on Nursery"
   ]
  },
  {
   "cell_type": "code",
   "execution_count": 8,
   "metadata": {},
   "outputs": [
    {
     "name": "stdout",
     "output_type": "stream",
     "text": [
      "Epoch [1/1], Loss: 0.6382\n"
     ]
    }
   ],
   "source": [
    "# Define loss function and optimizer\n",
    "criterion = nn.CrossEntropyLoss()\n",
    "optimizer = torch.optim.Adam(model.parameters(), lr=1e-4)\n",
    "\n",
    "# Set the device (GPU if available)\n",
    "device = torch.device(\"cuda\" if torch.cuda.is_available() else \"cpu\")\n",
    "model.to(device)\n",
    "\n",
    "# Training loop\n",
    "num_epochs = 10\n",
    "for epoch in range(num_epochs):\n",
    "    model.train()\n",
    "    running_loss = 0.0\n",
    "    # for inputs, labels in train_loader:\n",
    "    #     inputs, labels = inputs.to(device), labels.to(device)\n",
    "\n",
    "    #     # Zero the gradients\n",
    "    #     optimizer.zero_grad()\n",
    "\n",
    "    #     # Forward pass\n",
    "    #     outputs = model(inputs)\n",
    "    #     loss = criterion(outputs, labels)\n",
    "\n",
    "    #     # Backward pass and optimization\n",
    "    #     loss.backward()\n",
    "    #     optimizer.step()\n",
    "\n",
    "    #     running_loss += loss.item()\n",
    "\n",
    "    # Training loop\n",
    "\n",
    "    for inputs, labels in train_loader:\n",
    "        inputs, labels = inputs.to(device), labels.to(device)\n",
    "\n",
    "        # Zero the gradients\n",
    "        optimizer.zero_grad()\n",
    "\n",
    "        # Forward pass\n",
    "        outputs = model(inputs)\n",
    "\n",
    "        # Assuming outputs are of shape [batch_size, num_classes]\n",
    "        # If outputs have an extra dimension, you might not need to reshape them\n",
    "        if outputs.dim() == 2:  # Typical case for classification\n",
    "            # No need to reshape if it's already [batch_size, num_classes]\n",
    "            pass  # Keep as is\n",
    "        else:\n",
    "            # This case might happen if outputs have unexpected dimensions\n",
    "            outputs = outputs.view(-1, num_classes)  # Use this only if necessary\n",
    "\n",
    "        # Flatten labels if they are not already\n",
    "        labels = labels.view(-1)  # Flatten the labels to [batch_size * seq_length]\n",
    "\n",
    "        # Compute loss\n",
    "        loss = criterion(outputs, labels)\n",
    "\n",
    "        # Backward pass and optimization\n",
    "        loss.backward()\n",
    "        optimizer.step()\n",
    "\n",
    "        running_loss += loss.item()\n",
    "\n",
    "    print(f'Epoch [{epoch+1}/{num_epochs}], Loss: {running_loss/len(train_loader):.4f}')"
   ]
  },
  {
   "cell_type": "markdown",
   "metadata": {},
   "source": [
    "# Evaluating the model"
   ]
  },
  {
   "cell_type": "code",
   "execution_count": null,
   "metadata": {},
   "outputs": [],
   "source": [
    "# Switch to evaluation mode\n",
    "model.eval()\n",
    "y_pred = []\n",
    "y_true = []\n",
    "\n",
    "# Test the model\n",
    "with torch.no_grad():\n",
    "    for inputs, labels in test_loader:\n",
    "        inputs, labels = inputs.to(device), labels.to(device)\n",
    "        outputs = model(inputs)\n",
    "        _, predicted = torch.max(outputs, 1)\n",
    "        y_pred.extend(predicted.cpu().numpy())\n",
    "        y_true.extend(labels.cpu().numpy())\n",
    "\n",
    "# Calculate accuracy\n",
    "accuracy = accuracy_score(y_true, y_pred)\n",
    "print(f'Accuracy on the test set: {accuracy:.4f}')"
   ]
  },
  {
   "cell_type": "markdown",
   "metadata": {},
   "source": []
  }
 ],
 "metadata": {
  "kernelspec": {
   "display_name": ".venv",
   "language": "python",
   "name": "python3"
  },
  "language_info": {
   "codemirror_mode": {
    "name": "ipython",
    "version": 3
   },
   "file_extension": ".py",
   "mimetype": "text/x-python",
   "name": "python",
   "nbconvert_exporter": "python",
   "pygments_lexer": "ipython3",
   "version": "3.9.6"
  }
 },
 "nbformat": 4,
 "nbformat_minor": 2
}
